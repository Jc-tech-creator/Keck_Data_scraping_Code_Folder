{
 "cells": [
  {
   "cell_type": "code",
   "execution_count": null,
   "id": "1db64080",
   "metadata": {},
   "outputs": [],
   "source": [
    "##This file is the collection of link I scraped. The entries with a '1' is the stage1(Already done) priority, the entries with a '2' is the stage 2(may need to do in the future)"
   ]
  },
  {
   "cell_type": "code",
   "execution_count": null,
   "id": "f8e5b8af",
   "metadata": {},
   "outputs": [],
   "source": [
    "1#Done Surgery 外科 # https://profiles.sc-ctsi.org/search/default.aspx?searchtype=people&searchfor=&exactphrase=false&perpage=15&offset=0&page=1&totalpages=9&searchrequest=A81BSfTwU3GNm4liSODkW6vB3EBYO6gz+a5TY1bFhuz1tc7ngL4Orww3064KoquG+9VriFtrDjogfSknlN6Jz7ictMT0qk3g10zM0TMIEPsEyvmx6bLpcnNFGJ4exv4/fFAesBf4NHrkI4nVpsBeSKg1prKuDu5Ad3xZR2IG1VXzQt2Kl5Hs5a708T2/vlG+0DSye5g9KBjG4Q1kuBhnZNV3TLVPhoChvEqCnKALU7a7awqf6lAuskQW4rD5G/OC/lXclIHC7LtUeKfMKIzva4dDNw2yad/+Ztpp+7k5ZCyw78HL/ylb8xtpoTCrpOCblNkbtcHNwmWVhmKSEotaCdKtPoDL1Ce/aO+YXYcU6KD7Dlz0pELaBELBAK3AHzviBGnjhYWtQuyCANZthTN7c44rLpKsCtzJB1J8saJBnpNeiC51ZnYo42zY/8tdMbiUjH1HWb7OWmYrCEOhNlmBq7Z/PsLHWsJSZIAfV8346VMVWsQSiN3oIGGN9jLXSZC010kNGYH6yvTtuL5pI2IiiZgevCUih0f3vmYbjqDWiC0hfQ91O8wAHEy+em2LLRD0N7bXUla2CVwrMqeYrVc28GcpkaUfcoizAZmabPZ+4guZrRLO7kDb5UkVrVjsiVmyRqW/ZPxhuOzs028ZCNC9Pkj6Cvuetc8M7xFeO7i4Kz7mhndjauczb04vIVCtvddsf/0alVLXWsLrBqQvPuGcbo8wtdJP4js9MfmQk2RtrZ+xCe9SAsXVzdrv+l6ChQe5jcQbuuaMR4L71WuIW2sOOiB9KSeU3onPuJy0xPSqTeDXTMzRMwgQ+wTK+bHpsulyc0UYnh7G/j98UB6wF/g0euQjidWmwF5IqDWmsq4O7kB3fFlHYgbVVfNC3YqXkezlrvTxPb++Ub7QNLJ7mD0oGMbhDWS4GGdk1XdMtU+GgKG8SoKcoAtTtlEt/2wbClayQPGhcxVo09gDCJCXwzMUsXa+fRcfB7fc/h1u/pNAAcxPRLfIsGU6oTYRwq6K1iRkdRekfFhgfonGoiVF+rjPsIVCbRA8UBuKjt2mG4LOuWydrCVgzgFjeCwHVIhaAji5KzKnmK1XNvBuU21UYcazssAhY5QN5HqOz364Jh+PtSUHUnyxokGekw87QDW54xH0z7wnS/kXoYCMfUdZvs5aZisIQ6E2WYGrtn8+wsdawlJkgB9XzfjpUxVaxBKI3eggYY32MtdJkLTXSQ0ZgfrK9KFtPTgSALhF4Kjltr+M7VvtJch3oyZZvpIUAii9kYJLBEvduEjR8A8uCDKKGCLsO6IIOC8sP+cuj34KQ/2Vk+jjO5+xZ1hK07Z/PsLHWsJSbL2aPio/lbuen2adZiz2WUrcCbrm8Hv1LvuVycZQDRJTzdq/ZOpKZwT2qgK/wlsflTM+dU3AsnGRMT0eK39mipypjWaexApiBmhn8OCJDQl//RqVUtdawusGpC8+4ZxujzC10k/iOz0x+ZCTZG2tn+HvaRGrnk7G9JcK1Tuz3PQQ1ku/mGKTH8P1fL117jYsTJhwiywSpwiDN2KjE9YIiEQEk737ww/lR90UVHp84Sve9ousysF6cX6yeX3oiVeazkw4Sos6kynXTvBY2y6OH4Bj1ilmCSpMr7BP6XkwkxKX5LV/V+G/5KLft7UoXLy1I4ZXt5fDgcwseW0G4mqUT6V5UBr24uPn65HCimN9Ir5BhYrdEjhRGjvusvk5GeZpRyV230E16h5+YNtqZyNkK3ZLK/QkvdTaWPPp2cGxYrrZiGAOzXr4waSMi7j4WrJToPTFRtD/QI8=&sortby=&sortdirection=&showcolumns=10"
   ]
  },
  {
   "cell_type": "code",
   "execution_count": null,
   "id": "0519c1f0",
   "metadata": {},
   "outputs": [],
   "source": [
    "1#Done Transplant(Reseach Topics)# https://profiles.sc-ctsi.org/search/default.aspx?searchtype=people&searchfor=Transplant&exactphrase=false&perpage=15&offset=0&page=1&totalpages=22&searchrequest=A81BSfTwU3GNm4liSODkW6vB3EBYO6gz+a5TY1bFhuysXK4hqbI6eAebHoNTzab0+VLZJkUtJQiRHNa3URkDNf9e68M8WD2raRdozjhWRGldWM+3ag1zA0yYcIssEqcIgzdioxPWCIhFSugZIzBgM8+8J0v5F6GA7H3caxNxhAdg7fvS8w0elfkfsvk/2PSl/SKblT7HEZkWXAx5IRPusnUqOqtGWwiH3V4tBsJ3tamK9kWWF9DtXJMqQ/qxFe2BeDEmEW1UoSiXFtYggYax+Pol846nKkeRpqvi3EgZISyY/AOmk/bcdWWvzonHF9vP3WmpISGJWT7GdI5ctlkkXIE3DaZ+9aP4NhHCrorWJGTCA/ausL1fdrdeGGS4QzdAzVQlHIZj0wXXhUVzuGMrTwpTD8JeV1JCogg4Lyw/5y6PfgpD/ZWT6OM7n7FnWErTtn8+wsdawlJQL3q6hdkvLhDWS7+YYpMfWjz3UceH9nqCANZthTN7cyOBvzDow8j/NLn7vgMgz5vVd0y1T4aAobnuGABya0glzpReNVD92uMxK9X3nHMQumkjPT995CvslFBfA02sgeXmwZLkx9b5lLFKq0CBXnn1k6m6yJp/khPcApKGG1VkJx/4fQJWk8CNjH1HWb7OWmabrZBlZbg+xEQX94mkjqn1CejcgKAcZgDVugyHwTIH4TD7zk9oQeD5/lXclIHC7LudzFNKsC7qJ4dDNw2yad/+SXx9qc9q8Z3vEV47uLgrPuaGd2Nq5zNvTi8hUK2912x//RqVUtdawusGpC8+4ZxujzC10k/iOz0x+ZCTZG2tnyWk5y0/Tn+tfxudZZbLakqNxBu65oxHgvvVa4hbaw46Z7CucPTYXDv5H7L5P9j0pf0im5U+xxGZFlwMeSET7rJ1KjqrRlsIh91eLQbCd7WpivZFlhfQ7VyTKkP6sRXtgSWS2g5XFLztldTdMrXoDtvxwQz/D/EFEZ/ub6NLqTGbkZN015FyLviVhmKSEotaCdKtPoDL1Ce/aO+YXYcU6KD7Dlz0pELaBAK2ashy4yT5NtnoOWPKPENtJTo5ZHop2IgsDkgkfoq9BZs9j9cGBf4eTbD9oiIQSJI8vaqdfpyJQNx+h/7AOUtvXL54F98Val+1hKMwC1NJLggyihgi7DuiCDgvLD/nLo9+CkP9lZPo4zufsWdYStO2fz7Cx1rCUvypecfvq3XM60oN0Jc/MveCANZthTN7c1mg7RaRHDbO9bXO54C+Dq8MN9OuCqKrhv/QtV0VC1l/tncZFI6GsA7IpJFAbogWvUSniam10xyZzMtUtPFkvKSqnPEO7gfPsl3taATzidUkHiA5/1D/YFLtyfQuU1EJK8mZk0QlNEbahfDRk6WWaclpDZn/iBo04k7y5KSyXTxYn5zE2dgMLm3ipPAvvK8b1qLI4XK0QanMJjIpcyRvY8RRKr03NmSFJZLrTlewVlCrIj0reLGJI35pF2jOOFZEaSI9K3ixiSN+tRvEjqTRbxY=&sortby=&sortdirection=&showcolumns=10"
   ]
  },
  {
   "cell_type": "code",
   "execution_count": null,
   "id": "deeff9af",
   "metadata": {},
   "outputs": [],
   "source": [
    "1#Done Ophthalmology 眼科 # https://profiles.sc-ctsi.org/search/default.aspx?searchtype=people&searchfor=&exactphrase=false&perpage=15&offset=0&page=1&totalpages=3&searchrequest=A81BSfTwU3GNm4liSODkW6vB3EBYO6gz+a5TY1bFhuz1tc7ngL4Orww3064KoquG+9VriFtrDjogfSknlN6Jz7ictMT0qk3g10zM0TMIEPsEyvmx6bLpcnNFGJ4exv4/fFAesBf4NHrkI4nVpsBeSKg1prKuDu5Ad3xZR2IG1VXzQt2Kl5Hs5a708T2/vlG+0DSye5g9KBjG4Q1kuBhnZNV3TLVPhoChvEqCnKALU7a7awqf6lAuskQW4rD5G/OC/lXclIHC7LtUeKfMKIzva4dDNw2yad/+Ztpp+7k5ZCyw78HL/ylb8xtpoTCrpOCblNkbtcHNwmWVhmKSEotaCdKtPoDL1Ce/aO+YXYcU6KD7Dlz0pELaBELBAK3AHzviBGnjhYWtQuyCANZthTN7c44rLpKsCtzJB1J8saJBnpNeiC51ZnYo42zY/8tdMbiUjH1HWb7OWmYrCEOhNlmBq7Z/PsLHWsJSZIAfV8346VMVWsQSiN3oIGGN9jLXSZC010kNGYH6yvTtuL5pI2IiiZgevCUih0f3vmYbjqDWiC0hfQ91O8wAHEy+em2LLRD0N7bXUla2CVwrMqeYrVc28GcpkaUfcoizAZmabPZ+4guZrRLO7kDb5UkVrVjsiVmyRqW/ZPxhuOzs028ZCNC9Pkj6Cvuetc8M7xFeO7i4Kz7mhndjauczb04vIVCtvddsf/0alVLXWsLrBqQvPuGcbo8wtdJP4js9MfmQk2RtrZ8VwStjwrwcNBnbuqhfSUKgjcQbuuaMR4L71WuIW2sOOiB9KSeU3onPuJy0xPSqTeDXTMzRMwgQ+wTK+bHpsulyc0UYnh7G/j98UB6wF/g0euQjidWmwF5IqDWmsq4O7kB3fFlHYgbVVfNC3YqXkezlrvTxPb++Ub7QNLJ7mD0oGMbhDWS4GGdk1XdMtU+GgKG8SoKcoAtTtlEt/2wbClayQPGhcxVo09gDCJCXwzMUsXa+fRcfB7fc/h1u/pNAAcxPRLfIsGU6oTYRwq6K1iRkdRekfFhgfonGoiVF+rjPsIVCbRA8UBuKjt2mG4LOuWydrCVgzgFjeCwHVIhaAji5KzKnmK1XNvBuU21UYcazssAhY5QN5HqOz364Jh+PtSUHUnyxokGekw87QDW54xH0z7wnS/kXoYCMfUdZvs5aZisIQ6E2WYGrtn8+wsdawlJkgB9XzfjpUxVaxBKI3eggYY32MtdJkLTXSQ0ZgfrK9KFtPTgSALhF4Kjltr+M7VvtJch3oyZZvpIUAii9kYJLBEvduEjR8A8uCDKKGCLsO6IIOC8sP+cuj34KQ/2Vk+jjO5+xZ1hK07Z/PsLHWsJSbL2aPio/lbuen2adZiz2WUrcCbrm8Hv1LvuVycZQDRJTzdq/ZOpKZwT2qgK/wlsflTM+dU3AsnGRMT0eK39mipypjWaexApiBmhn8OCJDQl//RqVUtdawusGpC8+4ZxujzC10k/iOz0x+ZCTZG2tn+HvaRGrnk7G9JcK1Tuz3PQQ1ku/mGKTH8P1fL117jYsTJhwiywSpwiDN2KjE9YIiEQEk737ww/lR90UVHp84Sve9ousysF6cX6yeX3oiVeazkw4Sos6kynXTvBY2y6OH4Bj1ilmCSpMr7BP6XkwkxKX5LV/V+G/5KLft7UoXLy1I4ZXt5fDgcwseW0G4mqUT6V5UBr24uPn65HCimN9Ir5BhYrdEjhRGjvusvk5GeZpRyV230E16h5+YNtqZyNkK3ZLK/QkvdTaWPPp2cGxYrrZiGAOzXr4waSMi7j4WrJToPTFRtD/QI8=&sortby=&sortdirection=&showcolumns=10"
   ]
  },
  {
   "cell_type": "code",
   "execution_count": null,
   "id": "b5a7bf71",
   "metadata": {},
   "outputs": [],
   "source": [
    "1#Done Otolaryngology 耳鼻喉科 # https://profiles.sc-ctsi.org/search/default.aspx?searchtype=people&searchfor=&exactphrase=false&perpage=15&offset=0&page=1&totalpages=3&searchrequest=A81BSfTwU3GNm4liSODkW6vB3EBYO6gz+a5TY1bFhuz1tc7ngL4Orww3064KoquG+9VriFtrDjogfSknlN6Jz7ictMT0qk3g10zM0TMIEPsEyvmx6bLpcnNFGJ4exv4/fFAesBf4NHrkI4nVpsBeSKg1prKuDu5Ad3xZR2IG1VXzQt2Kl5Hs5a708T2/vlG+0DSye5g9KBjG4Q1kuBhnZNV3TLVPhoChvEqCnKALU7a7awqf6lAuskQW4rD5G/OC/lXclIHC7LtUeKfMKIzva4dDNw2yad/+Ztpp+7k5ZCyw78HL/ylb8xtpoTCrpOCblNkbtcHNwmWVhmKSEotaCdKtPoDL1Ce/aO+YXYcU6KD7Dlz0pELaBELBAK3AHzviBGnjhYWtQuyCANZthTN7c44rLpKsCtzJB1J8saJBnpNeiC51ZnYo42zY/8tdMbiUjH1HWb7OWmYrCEOhNlmBq7Z/PsLHWsJSZIAfV8346VMVWsQSiN3oIGGN9jLXSZC010kNGYH6yvTtuL5pI2IiiZgevCUih0f3vmYbjqDWiC0hfQ91O8wAHEy+em2LLRD0N7bXUla2CVwrMqeYrVc28GcpkaUfcoizAZmabPZ+4guZrRLO7kDb5UkVrVjsiVmyRqW/ZPxhuOzs028ZCNC9Pkj6Cvuetc8M7xFeO7i4Kz7mhndjauczb04vIVCtvddsf/0alVLXWsLrBqQvPuGcbo8wtdJP4js9MfmQk2RtrZ+yQZpSZ8RR6tFJ7Ah6OupyjcQbuuaMR4L71WuIW2sOOiB9KSeU3onPuJy0xPSqTeDXTMzRMwgQ+wTK+bHpsulyc0UYnh7G/j98UB6wF/g0euQjidWmwF5IqDWmsq4O7kB3fFlHYgbVVfNC3YqXkezlrvTxPb++Ub7QNLJ7mD0oGMbhDWS4GGdk1XdMtU+GgKG8SoKcoAtTtlEt/2wbClayQPGhcxVo09gDCJCXwzMUsXa+fRcfB7fc/h1u/pNAAcxPRLfIsGU6oTYRwq6K1iRkdRekfFhgfonGoiVF+rjPsIVCbRA8UBuKjt2mG4LOuWydrCVgzgFjeCwHVIhaAji5KzKnmK1XNvBuU21UYcazssAhY5QN5HqOz364Jh+PtSUHUnyxokGekw87QDW54xH0z7wnS/kXoYCMfUdZvs5aZisIQ6E2WYGrtn8+wsdawlJkgB9XzfjpUxVaxBKI3eggYY32MtdJkLTXSQ0ZgfrK9KFtPTgSALhF4Kjltr+M7VvtJch3oyZZvpIUAii9kYJLBEvduEjR8A8uCDKKGCLsO6IIOC8sP+cuj34KQ/2Vk+jjO5+xZ1hK07Z/PsLHWsJSbL2aPio/lbuen2adZiz2WUrcCbrm8Hv1LvuVycZQDRJTzdq/ZOpKZwT2qgK/wlsflTM+dU3AsnGRMT0eK39mipypjWaexApiBmhn8OCJDQl//RqVUtdawusGpC8+4ZxujzC10k/iOz0x+ZCTZG2tn+HvaRGrnk7G9JcK1Tuz3PQQ1ku/mGKTH8P1fL117jYsTJhwiywSpwiDN2KjE9YIiEQEk737ww/lR90UVHp84Sve9ousysF6cX6yeX3oiVeazkw4Sos6kynXTvBY2y6OH4Bj1ilmCSpMr7BP6XkwkxKX5LV/V+G/5KLft7UoXLy1I4ZXt5fDgcwseW0G4mqUT6V5UBr24uPn65HCimN9Ir5BhYrdEjhRGjvusvk5GeZpRyV230E16h5+YNtqZyNkK3ZLK/QkvdTaWPPp2cGxYrrZiGAOzXr4waSMi7j4WrJToPTFRtD/QI8=&sortby=&sortdirection=&showcolumns=10"
   ]
  },
  {
   "cell_type": "code",
   "execution_count": null,
   "id": "71ccf48d",
   "metadata": {},
   "outputs": [],
   "source": [
    "1# Done Neurological Surgery 神经外科 #https://profiles.sc-ctsi.org/search/default.aspx?showcolumns=10&searchtype=people&otherfilters=&searchrequest=A81BSfTwU3GNm4liSODkW6vB3EBYO6gz+a5TY1bFhuz1tc7ngL4Orww3064KoquG+9VriFtrDjogfSknlN6Jz7ictMT0qk3g10zM0TMIEPsEyvmx6bLpcnNFGJ4exv4/fFAesBf4NHrkI4nVpsBeSKg1prKuDu5Ad3xZR2IG1VXzQt2Kl5Hs5a708T2/vlG+0DSye5g9KBjG4Q1kuBhnZAsDzRQkDR38klnZT2UlnG774nyA2dru0SIu9XaJe2Vd5sGS5MfW+ZRpNT79jDpQICGGFNfg5WTlXIPkbYJjpf3YGfCjPCJ3A81UJRyGY9MF14VFc7hjK08KUw/CXldSQqIIOC8sP+cuj34KQ/2Vk+jjO5+xZ1hK07Z/PsLHWsJSUC96uoXZLy4Q1ku/mGKTH1o891HHh/Z6ggDWbYUze3Mjgb8w6MPI/zS5+74DIM+bCwPNFCQNHfzr4gvV0z6qGVEt/2wbClayQPGhcxVo09gDCJCXwzMUsXa+fRcfB7fc/h1u/pNAAcxPRLfIsGU6oa9Thlqup/G9P+dE7j5lU6KwgrkA45yGFL0UxYo4wyxhvEqCnKALU7ZRLf9sGwpWskDxoXMVaNPYAwiQl8MzFLF2vn0XHwe33P4dbv6TQAHMT0S3yLBlOqE2EcKuitYkZL7mHaCy6ljRP6LIr5l72zfNVCUchmPTBdeFRXO4YytPClMPwl5XUkKiCDgvLD/nLo9+CkP9lZPo4zufsWdYStO2fz7Cx1rCUiZp4Qj6ocnRENZLv5hikx9aPPdRx4f2eoIA1m2FM3tzI4G/MOjDyP80ufu+AyDPmwsDzRQkDR386+IL1dM+qhlRLf9sGwpWskDxoXMVaNPYAwiQl8MzFLF2vn0XHwe33P4dbv6TQAHMT0S3yLBlOqGvU4ZarqfxvT/nRO4+ZVOisIK5AOOchhS9FMWKOMMsYbxKgpygC1O2US3/bBsKVrJA8aFzFWjT2AMIkJfDMxSxdr59Fx8Ht9z+HW7+k0ABzE9Et8iwZTqhNhHCrorWJGR1F6R8WGB+iX9CBbEfD1LTG2mhMKuk4JuU2Ru1wc3CZZWGYpISi1oJ0q0+gMvUJ79o75hdhxTooPsOXPSkQtoEQsEArcAfO+IiKcZEklFr44IA1m2FM3tzjisukqwK3MkHUnyxokGek5PHGyUHIV64ue4YAHJrSCXOlF41UP3a4zEr1feccxC6aSM9P33kK+yUUF8DTayB5ebBkuTH1vmUSd9X/NZJRTj59DA7bBjAkdfZFMBz1Ja1ULCws9AFsn9751FCkGZeUwZoZ/DgiQ0Jf/0alVLXWsLrBqQvPuGcbo8wtdJP4js9MfmQk2RtrZ/4pek4WrX93PSXCtU7s9z0FGmKL36CMM39fOeQUbkYW5zODosjDCuMFlwMeSET7rK5nRADi9hIZ7XhEewY5YTtV4sav4FCdCTsQm/wNqQ6uZ2sJWDOAWN4LAdUiFoCOLkrMqeYrVc28G5TbVRhxrOyj/4NA6Zyrn1QZiWZyA9vkZo2sb4yq/dHjcQbuuaMR4JpF2jOOFZEaWue6vkhtoRwwfdN4TTmOan9ztqBxhOvMb+us3lPmnf2tt1S1Z0IDTE7qPP/7M2jzFN6foNWCqqLRb/LXAdoFsRpMPt345sB8SI9K3ixiSN+kccJVanciBCNm4liSODkW2tuMX0EQMJeJ1NvmZC7MMfIH0G3DzFa7S76yDQ0fmhXx47lNl+obrMAl6LnDsmqO6LI4XK0QanMi19EAkvoFc7JmZNEJTRG2uqY8pTR84tJVXfmR7Dk5CJCe/cQ6H6rtg=="
   ]
  },
  {
   "cell_type": "code",
   "execution_count": null,
   "id": "05646d59",
   "metadata": {},
   "outputs": [],
   "source": [
    "1#Done Cancer center(only three) #https://profiles.sc-ctsi.org/search/default.aspx?showcolumns=10&searchtype=people&otherfilters=&searchrequest=A81BSfTwU3GNm4liSODkW6vB3EBYO6gz+a5TY1bFhuz1tc7ngL4Orww3064KoquG+9VriFtrDjogfSknlN6Jz7ictMT0qk3g10zM0TMIEPsEyvmx6bLpcnNFGJ4exv4/fFAesBf4NHrkI4nVpsBeSKg1prKuDu5Ad3xZR2IG1VXzQt2Kl5Hs5a708T2/vlG+0DSye5g9KBjG4Q1kuBhnZAsDzRQkDR38klnZT2UlnG774nyA2dru0SIu9XaJe2Vd5sGS5MfW+ZRpNT79jDpQICGGFNfg5WTlXIPkbYJjpf3YGfCjPCJ3A81UJRyGY9MF14VFc7hjK08KUw/CXldSQqIIOC8sP+cuj34KQ/2Vk+jjO5+xZ1hK07Z/PsLHWsJSUC96uoXZLy4Q1ku/mGKTH1o891HHh/Z6ggDWbYUze3Mjgb8w6MPI/zS5+74DIM+bCwPNFCQNHfzr4gvV0z6qGVEt/2wbClayQPGhcxVo09gDCJCXwzMUsXa+fRcfB7fc/h1u/pNAAcxPRLfIsGU6oa9Thlqup/G9P+dE7j5lU6KwgrkA45yGFL0UxYo4wyxhvEqCnKALU7ZRLf9sGwpWskDxoXMVaNPYAwiQl8MzFLF2vn0XHwe33P4dbv6TQAHMT0S3yLBlOqE2EcKuitYkZL7mHaCy6ljRP6LIr5l72zfNVCUchmPTBdeFRXO4YytPClMPwl5XUkKiCDgvLD/nLo9+CkP9lZPo4zufsWdYStO2fz7Cx1rCUoi25Dk3dlN0ENZLv5hikx9aPPdRx4f2eoIA1m2FM3tzpIb+x0w0zrkEyvmx6bLpcnNFGJ4exv4/fFAesBf4NHrkI4nVpsBeSKg1prKuDu5Ad3xZR2IG1VXzQt2Kl5Hs5UZH/Ye8FcgWgePMtmF5ATJ4MQUyDvTxnnPfxZPcVJtD7EJv8DakOrmdrCVgzgFjeCwHVIhaAji5KzKnmK1XNvBuU21UYcazso/+DQOmcq59vygYsm8mrOdbgH0GhtpClbsYs24T0OP+6AsZV2L1ghCieYtksHIivTQcOWmV0ZPf/7IZKmnPOzXfXG1SbwDrEWfGEqFaf5LVlYZikhKLWgnSrT6Ay9Qnv2jvmF2HFOig+w5c9KRC2gQCtmrIcuMk+VBP5iQ3n49X+7++SA13AFcHUnyxokGek0sjidsfc48JdI9fj5a9U482x39WHcRDQ4bZgSHsOs5t6GvbgmI7bEhA0VHxxOO5/WBbBCWBvxG5abYXYZoQx9oJqtVc4/XLq5RqLqUVxTFdpIyLuPhaslOGEQfHdCjOnBfW2+zq8/hWicN42CNN/3OzGf9r5qIZewQK0vOM5k5yuKiIJ3evM+n88D6bybNuR1EqvTc2ZIUlWKYmnLaol5Zr1JALTosZe6Lft7UoXLy1vkaMAQlz50ZOYPoQQjeg5ma44AI+iRIU"
   ]
  },
  {
   "cell_type": "code",
   "execution_count": null,
   "id": "670b06fb",
   "metadata": {},
   "outputs": [],
   "source": [
    "1#Done Urology #https://profiles.sc-ctsi.org/search/default.aspx?searchtype=people&searchfor=&exactphrase=false&perpage=15&offset=0&page={}&totalpages=3&searchrequest=A81BSfTwU3GNm4liSODkW6vB3EBYO6gz+a5TY1bFhuz1tc7ngL4Orww3064KoquG+9VriFtrDjogfSknlN6Jz7ictMT0qk3g10zM0TMIEPsEyvmx6bLpcnNFGJ4exv4/fFAesBf4NHrkI4nVpsBeSKg1prKuDu5Ad3xZR2IG1VXzQt2Kl5Hs5a708T2/vlG+0DSye5g9KBjG4Q1kuBhnZNV3TLVPhoChvEqCnKALU7a7awqf6lAuskQW4rD5G/OC/lXclIHC7LtUeKfMKIzva4dDNw2yad/+Ztpp+7k5ZCyw78HL/ylb8xtpoTCrpOCblNkbtcHNwmWVhmKSEotaCdKtPoDL1Ce/aO+YXYcU6KD7Dlz0pELaBELBAK3AHzviBGnjhYWtQuyCANZthTN7c44rLpKsCtzJB1J8saJBnpNeiC51ZnYo42zY/8tdMbiUjH1HWb7OWmYrCEOhNlmBq7Z/PsLHWsJSZIAfV8346VMVWsQSiN3oIGGN9jLXSZC010kNGYH6yvTtuL5pI2IiiZgevCUih0f3vmYbjqDWiC0hfQ91O8wAHEy+em2LLRD0N7bXUla2CVwrMqeYrVc28GcpkaUfcoizAZmabPZ+4guZrRLO7kDb5UkVrVjsiVmyRqW/ZPxhuOzs028ZCNC9Pkj6Cvuetc8M7xFeO7i4Kz7mhndjauczb04vIVCtvddsf/0alVLXWsLrBqQvPuGcbo8wtdJP4js9MfmQk2RtrZ/rewQbYFsxv9rv+l6ChQe5jcQbuuaMR4L71WuIW2sOOiB9KSeU3onPuJy0xPSqTeDXTMzRMwgQ+wTK+bHpsulyc0UYnh7G/j98UB6wF/g0euQjidWmwF5IqDWmsq4O7kB3fFlHYgbVVfNC3YqXkezlrvTxPb++Ub7QNLJ7mD0oGMbhDWS4GGdk1XdMtU+GgKG8SoKcoAtTtlEt/2wbClayQPGhcxVo09gDCJCXwzMUsXa+fRcfB7fc/h1u/pNAAcxPRLfIsGU6oTYRwq6K1iRkdRekfFhgfonGoiVF+rjPsIVCbRA8UBuKjt2mG4LOuWydrCVgzgFjeCwHVIhaAji5KzKnmK1XNvBuU21UYcazssAhY5QN5HqOz364Jh+PtSUHUnyxokGekw87QDW54xH0z7wnS/kXoYCMfUdZvs5aZisIQ6E2WYGrtn8+wsdawlJkgB9XzfjpUxVaxBKI3eggYY32MtdJkLTXSQ0ZgfrK9KFtPTgSALhF4Kjltr+M7VvtJch3oyZZvpIUAii9kYJLBEvduEjR8A8uCDKKGCLsO6IIOC8sP+cuj34KQ/2Vk+jjO5+xZ1hK07Z/PsLHWsJSbL2aPio/lbuen2adZiz2WUrcCbrm8Hv1LvuVycZQDRJTzdq/ZOpKZwT2qgK/wlsflTM+dU3AsnGRMT0eK39mipypjWaexApiBmhn8OCJDQl//RqVUtdawusGpC8+4ZxujzC10k/iOz0x+ZCTZG2tn+HvaRGrnk7G9JcK1Tuz3PQQ1ku/mGKTH8P1fL117jYsTJhwiywSpwiDN2KjE9YIiEQEk737ww/lR90UVHp84Sve9ousysF6cX6yeX3oiVeazkw4Sos6kynXTvBY2y6OH4Bj1ilmCSpMr7BP6XkwkxKX5LV/V+G/5KLft7UoXLy1I4ZXt5fDgcwseW0G4mqUT6V5UBr24uPn65HCimN9Ir5BhYrdEjhRGjvusvk5GeZpRyV230E16h5+YNtqZyNkK3ZLK/QkvdTaWPPp2cGxYrrZiGAOzXr4waSMi7j4WrJToPTFRtD/QI8=&sortby=&sortdirection=&showcolumns=10"
   ]
  },
  {
   "cell_type": "code",
   "execution_count": null,
   "id": "31f3f6a8",
   "metadata": {},
   "outputs": [],
   "source": [
    "1# Done Orthopaedic Surgery 矫形外科 #https://profiles.sc-ctsi.org/search/default.aspx?searchtype=people&searchfor=&exactphrase=false&perpage=15&offset=0&page=1&totalpages=3&searchrequest=A81BSfTwU3GNm4liSODkW6vB3EBYO6gz+a5TY1bFhuz1tc7ngL4Orww3064KoquG+9VriFtrDjogfSknlN6Jz7ictMT0qk3g10zM0TMIEPsEyvmx6bLpcnNFGJ4exv4/fFAesBf4NHrkI4nVpsBeSKg1prKuDu5Ad3xZR2IG1VXzQt2Kl5Hs5a708T2/vlG+0DSye5g9KBjG4Q1kuBhnZNV3TLVPhoChvEqCnKALU7a7awqf6lAuskQW4rD5G/OC/lXclIHC7LtUeKfMKIzva4dDNw2yad/+Ztpp+7k5ZCyw78HL/ylb8xtpoTCrpOCblNkbtcHNwmWVhmKSEotaCdKtPoDL1Ce/aO+YXYcU6KD7Dlz0pELaBELBAK3AHzviBGnjhYWtQuyCANZthTN7c44rLpKsCtzJB1J8saJBnpNeiC51ZnYo42zY/8tdMbiUjH1HWb7OWmYrCEOhNlmBq7Z/PsLHWsJSZIAfV8346VMVWsQSiN3oIGGN9jLXSZC010kNGYH6yvTtuL5pI2IiiZgevCUih0f3vmYbjqDWiC0hfQ91O8wAHEy+em2LLRD0N7bXUla2CVwrMqeYrVc28GcpkaUfcoizAZmabPZ+4guZrRLO7kDb5UkVrVjsiVmyRqW/ZPxhuOzs028ZCNC9Pkj6Cvuetc8M7xFeO7i4Kz7mhndjauczb04vIVCtvddsf/0alVLXWsLrBqQvPuGcbo8wtdJP4js9MfmQk2RtrZ9R60Y9PTQCtQTN/PyW6vHZjcQbuuaMR4L71WuIW2sOOiB9KSeU3onPuJy0xPSqTeDXTMzRMwgQ+wTK+bHpsulyc0UYnh7G/j98UB6wF/g0euQjidWmwF5IqDWmsq4O7kB3fFlHYgbVVfNC3YqXkezlrvTxPb++Ub7QNLJ7mD0oGMbhDWS4GGdk1XdMtU+GgKG8SoKcoAtTtlEt/2wbClayQPGhcxVo09gDCJCXwzMUsXa+fRcfB7fc/h1u/pNAAcxPRLfIsGU6oTYRwq6K1iRkdRekfFhgfonGoiVF+rjPsIVCbRA8UBuKjt2mG4LOuWydrCVgzgFjeCwHVIhaAji5KzKnmK1XNvBuU21UYcazssAhY5QN5HqOz364Jh+PtSUHUnyxokGekw87QDW54xH0z7wnS/kXoYCMfUdZvs5aZisIQ6E2WYGrtn8+wsdawlJkgB9XzfjpUxVaxBKI3eggYY32MtdJkLTXSQ0ZgfrK9KFtPTgSALhF4Kjltr+M7VvtJch3oyZZvpIUAii9kYJLBEvduEjR8A8uCDKKGCLsO6IIOC8sP+cuj34KQ/2Vk+jjO5+xZ1hK07Z/PsLHWsJSbL2aPio/lbuen2adZiz2WUrcCbrm8Hv1LvuVycZQDRJTzdq/ZOpKZwT2qgK/wlsflTM+dU3AsnGRMT0eK39mipypjWaexApiBmhn8OCJDQl//RqVUtdawusGpC8+4ZxujzC10k/iOz0x+ZCTZG2tn+HvaRGrnk7G9JcK1Tuz3PQQ1ku/mGKTH8P1fL117jYsTJhwiywSpwiDN2KjE9YIiEQEk737ww/lR90UVHp84Sve9ousysF6cX6yeX3oiVeazkw4Sos6kynXTvBY2y6OH4Bj1ilmCSpMr7BP6XkwkxKX5LV/V+G/5KLft7UoXLy1I4ZXt5fDgcwseW0G4mqUT6V5UBr24uPn65HCimN9Ir5BhYrdEjhRGjvusvk5GeZpRyV230E16h5+YNtqZyNkK3ZLK/QkvdTaWPPp2cGxYrrZiGAOzXr4waSMi7j4WrJToPTFRtD/QI8=&sortby=&sortdirection=&showcolumns=10"
   ]
  },
  {
   "cell_type": "code",
   "execution_count": null,
   "id": "7811c23b",
   "metadata": {},
   "outputs": [],
   "source": [
    "1# Done Radiation Oncology 放射腫瘤科# https://profiles.sc-ctsi.org/search/default.aspx?searchtype=people&searchfor=&exactphrase=false&perpage=15&offset=0&page=1&totalpages=2&searchrequest=A81BSfTwU3GNm4liSODkW6vB3EBYO6gz+a5TY1bFhuz1tc7ngL4Orww3064KoquG+9VriFtrDjogfSknlN6Jz7ictMT0qk3g10zM0TMIEPsEyvmx6bLpcnNFGJ4exv4/fFAesBf4NHrkI4nVpsBeSKg1prKuDu5Ad3xZR2IG1VXzQt2Kl5Hs5a708T2/vlG+0DSye5g9KBjG4Q1kuBhnZNV3TLVPhoChvEqCnKALU7a7awqf6lAuskQW4rD5G/OC/lXclIHC7LtUeKfMKIzva4dDNw2yad/+Ztpp+7k5ZCyw78HL/ylb8xtpoTCrpOCblNkbtcHNwmWVhmKSEotaCdKtPoDL1Ce/aO+YXYcU6KD7Dlz0pELaBELBAK3AHzviBGnjhYWtQuyCANZthTN7c44rLpKsCtzJB1J8saJBnpNeiC51ZnYo42zY/8tdMbiUjH1HWb7OWmYrCEOhNlmBq7Z/PsLHWsJSZIAfV8346VMVWsQSiN3oIGGN9jLXSZC010kNGYH6yvTtuL5pI2IiiZgevCUih0f3vmYbjqDWiC0hfQ91O8wAHEy+em2LLRD0N7bXUla2CVwrMqeYrVc28GcpkaUfcoizAZmabPZ+4guZrRLO7kDb5UkVrVjsiVmyRqW/ZPxhuOzs028ZCNC9Pkj6Cvuetc8M7xFeO7i4Kz7mhndjauczb04vIVCtvddsf/0alVLXWsLrBqQvPuGcbo8wtdJP4js9MfmQk2RtrZ++dv+qcCwmCn8bnWWWy2pKjcQbuuaMR4L71WuIW2sOOiB9KSeU3onPuJy0xPSqTeDXTMzRMwgQ+wTK+bHpsulyc0UYnh7G/j98UB6wF/g0euQjidWmwF5IqDWmsq4O7kB3fFlHYgbVVfNC3YqXkezlrvTxPb++Ub7QNLJ7mD0oGMbhDWS4GGdk1XdMtU+GgKG8SoKcoAtTtlEt/2wbClayQPGhcxVo09gDCJCXwzMUsXa+fRcfB7fc/h1u/pNAAcxPRLfIsGU6oTYRwq6K1iRkdRekfFhgfonGoiVF+rjPsIVCbRA8UBuKjt2mG4LOuWydrCVgzgFjeCwHVIhaAji5KzKnmK1XNvBuU21UYcazssAhY5QN5HqOz364Jh+PtSUHUnyxokGekw87QDW54xH0z7wnS/kXoYCMfUdZvs5aZisIQ6E2WYGrtn8+wsdawlJkgB9XzfjpUxVaxBKI3eggYY32MtdJkLTXSQ0ZgfrK9KFtPTgSALhF4Kjltr+M7VvtJch3oyZZvpIUAii9kYJLBEvduEjR8A8uCDKKGCLsO6IIOC8sP+cuj34KQ/2Vk+jjO5+xZ1hK07Z/PsLHWsJSbL2aPio/lbuen2adZiz2WUrcCbrm8Hv1LvuVycZQDRJTzdq/ZOpKZwT2qgK/wlsflTM+dU3AsnGRMT0eK39mipypjWaexApiBmhn8OCJDQl//RqVUtdawusGpC8+4ZxujzC10k/iOz0x+ZCTZG2tn+HvaRGrnk7G9JcK1Tuz3PQQ1ku/mGKTH8P1fL117jYsTJhwiywSpwiDN2KjE9YIiEQEk737ww/lR90UVHp84Sve9ousysF6cX6yeX3oiVeazkw4Sos6kynXTvBY2y6OH4Bj1ilmCSpMr7BP6XkwkxKX5LV/V+G/5KLft7UoXLy1I4ZXt5fDgcwseW0G4mqUT6V5UBr24uPn65HCimN9Ir5BhYrdEjhRGjvusvk5GeZpRyV230E16h5+YNtqZyNkK3ZLK/QkvdTaWPPp2cGxYrrZiGAOzXr4waSMi7j4WrJToPTFRtD/QI8=&sortby=&sortdirection=&showcolumns=10"
   ]
  },
  {
   "cell_type": "code",
   "execution_count": null,
   "id": "56f25bc0",
   "metadata": {},
   "outputs": [],
   "source": [
    "###########################################################################"
   ]
  },
  {
   "cell_type": "code",
   "execution_count": null,
   "id": "6e77dcfc",
   "metadata": {},
   "outputs": [],
   "source": [
    "2# Neurology 神经科 # https://profiles.sc-ctsi.org/search/default.aspx?searchtype=people&searchfor=&exactphrase=false&perpage=15&offset=0&page=1&totalpages=5&searchrequest=A81BSfTwU3GNm4liSODkW6vB3EBYO6gz+a5TY1bFhuz1tc7ngL4Orww3064KoquG+9VriFtrDjogfSknlN6Jz7ictMT0qk3g10zM0TMIEPsEyvmx6bLpcnNFGJ4exv4/fFAesBf4NHrkI4nVpsBeSKg1prKuDu5Ad3xZR2IG1VXzQt2Kl5Hs5a708T2/vlG+0DSye5g9KBjG4Q1kuBhnZNV3TLVPhoChvEqCnKALU7a7awqf6lAuskQW4rD5G/OC/lXclIHC7LtUeKfMKIzva4dDNw2yad/+Ztpp+7k5ZCyw78HL/ylb8xtpoTCrpOCblNkbtcHNwmWVhmKSEotaCdKtPoDL1Ce/aO+YXYcU6KD7Dlz0pELaBELBAK3AHzviBGnjhYWtQuyCANZthTN7c44rLpKsCtzJB1J8saJBnpNeiC51ZnYo42zY/8tdMbiUjH1HWb7OWmYrCEOhNlmBq7Z/PsLHWsJSZIAfV8346VMVWsQSiN3oIGGN9jLXSZC010kNGYH6yvTtuL5pI2IiiZgevCUih0f3vmYbjqDWiC0hfQ91O8wAHEy+em2LLRD0N7bXUla2CVwrMqeYrVc28GcpkaUfcoizAZmabPZ+4guZrRLO7kDb5UkVrVjsiVmyRqW/ZPxhuOzs028ZCNC9Pkj6Cvuetc8M7xFeO7i4Kz7mhndjauczb04vIVCtvddsf/0alVLXWsLrBqQvPuGcbo8wtdJP4js9MfmQk2RtrZ89u5JRTS/L230gsa6r/BJgjcQbuuaMR4L71WuIW2sOOiB9KSeU3onPuJy0xPSqTeDXTMzRMwgQ+wTK+bHpsulyc0UYnh7G/j98UB6wF/g0euQjidWmwF5IqDWmsq4O7kB3fFlHYgbVVfNC3YqXkezlrvTxPb++Ub7QNLJ7mD0oGMbhDWS4GGdk1XdMtU+GgKG8SoKcoAtTtlEt/2wbClayQPGhcxVo09gDCJCXwzMUsXa+fRcfB7fc/h1u/pNAAcxPRLfIsGU6oTYRwq6K1iRkdRekfFhgfonGoiVF+rjPsIVCbRA8UBuKjt2mG4LOuWydrCVgzgFjeCwHVIhaAji5KzKnmK1XNvBuU21UYcazssAhY5QN5HqOz364Jh+PtSUHUnyxokGekw87QDW54xH0z7wnS/kXoYCMfUdZvs5aZisIQ6E2WYGrtn8+wsdawlJkgB9XzfjpUxVaxBKI3eggYY32MtdJkLTXSQ0ZgfrK9KFtPTgSALhF4Kjltr+M7VvtJch3oyZZvpIUAii9kYJLBEvduEjR8A8uCDKKGCLsO6IIOC8sP+cuj34KQ/2Vk+jjO5+xZ1hK07Z/PsLHWsJSbL2aPio/lbuen2adZiz2WUrcCbrm8Hv1LvuVycZQDRJTzdq/ZOpKZwT2qgK/wlsflTM+dU3AsnGRMT0eK39mipypjWaexApiBmhn8OCJDQl//RqVUtdawusGpC8+4ZxujzC10k/iOz0x+ZCTZG2tn+HvaRGrnk7G9JcK1Tuz3PQQ1ku/mGKTH8P1fL117jYsTJhwiywSpwiDN2KjE9YIiEQEk737ww/lR90UVHp84Sve9ousysF6cX6yeX3oiVeazkw4Sos6kynXTvBY2y6OH4Bj1ilmCSpMr7BP6XkwkxKX5LV/V+G/5KLft7UoXLy1I4ZXt5fDgcwseW0G4mqUT6V5UBr24uPn65HCimN9Ir5BhYrdEjhRGjvusvk5GeZpRyV230E16h5+YNtqZyNkK3ZLK/QkvdTaWPPp2cGxYrrZiGAOzXr4waSMi7j4WrJToPTFRtD/QI8=&sortby=&sortdirection=&showcolumns=10"
   ]
  },
  {
   "cell_type": "code",
   "execution_count": null,
   "id": "7b248eba",
   "metadata": {},
   "outputs": [],
   "source": [
    "2# Obstetrics & Gynecology 妇产科 # https://profiles.sc-ctsi.org/search/default.aspx?searchtype=people&searchfor=&exactphrase=false&perpage=15&offset=0&page=1&totalpages=3&searchrequest=A81BSfTwU3GNm4liSODkW6vB3EBYO6gz+a5TY1bFhuz1tc7ngL4Orww3064KoquG+9VriFtrDjogfSknlN6Jz7ictMT0qk3g10zM0TMIEPsEyvmx6bLpcnNFGJ4exv4/fFAesBf4NHrkI4nVpsBeSKg1prKuDu5Ad3xZR2IG1VXzQt2Kl5Hs5a708T2/vlG+0DSye5g9KBjG4Q1kuBhnZNV3TLVPhoChvEqCnKALU7a7awqf6lAuskQW4rD5G/OC/lXclIHC7LtUeKfMKIzva4dDNw2yad/+Ztpp+7k5ZCyw78HL/ylb8xtpoTCrpOCblNkbtcHNwmWVhmKSEotaCdKtPoDL1Ce/aO+YXYcU6KD7Dlz0pELaBELBAK3AHzviBGnjhYWtQuyCANZthTN7c44rLpKsCtzJB1J8saJBnpNeiC51ZnYo42zY/8tdMbiUjH1HWb7OWmYrCEOhNlmBq7Z/PsLHWsJSZIAfV8346VMVWsQSiN3oIGGN9jLXSZC010kNGYH6yvTtuL5pI2IiiZgevCUih0f3vmYbjqDWiC0hfQ91O8wAHEy+em2LLRD0N7bXUla2CVwrMqeYrVc28GcpkaUfcoizAZmabPZ+4guZrRLO7kDb5UkVrVjsiVmyRqW/ZPxhuOzs028ZCNC9Pkj6Cvuetc8M7xFeO7i4Kz7mhndjauczb04vIVCtvddsf/0alVLXWsLrBqQvPuGcbo8wtdJP4js9MfmQk2RtrZ83WE5ZfvLCSRwqdsLc16uFjcQbuuaMR4L71WuIW2sOOiB9KSeU3onPuJy0xPSqTeDXTMzRMwgQ+wTK+bHpsulyc0UYnh7G/j98UB6wF/g0euQjidWmwF5IqDWmsq4O7kB3fFlHYgbVVfNC3YqXkezlrvTxPb++Ub7QNLJ7mD0oGMbhDWS4GGdk1XdMtU+GgKG8SoKcoAtTtlEt/2wbClayQPGhcxVo09gDCJCXwzMUsXa+fRcfB7fc/h1u/pNAAcxPRLfIsGU6oTYRwq6K1iRkdRekfFhgfonGoiVF+rjPsIVCbRA8UBuKjt2mG4LOuWydrCVgzgFjeCwHVIhaAji5KzKnmK1XNvBuU21UYcazssAhY5QN5HqOz364Jh+PtSUHUnyxokGekw87QDW54xH0z7wnS/kXoYCMfUdZvs5aZisIQ6E2WYGrtn8+wsdawlJkgB9XzfjpUxVaxBKI3eggYY32MtdJkLTXSQ0ZgfrK9KFtPTgSALhF4Kjltr+M7VvtJch3oyZZvpIUAii9kYJLBEvduEjR8A8uCDKKGCLsO6IIOC8sP+cuj34KQ/2Vk+jjO5+xZ1hK07Z/PsLHWsJSbL2aPio/lbuen2adZiz2WUrcCbrm8Hv1LvuVycZQDRJTzdq/ZOpKZwT2qgK/wlsflTM+dU3AsnGRMT0eK39mipypjWaexApiBmhn8OCJDQl//RqVUtdawusGpC8+4ZxujzC10k/iOz0x+ZCTZG2tn+HvaRGrnk7G9JcK1Tuz3PQQ1ku/mGKTH8P1fL117jYsTJhwiywSpwiDN2KjE9YIiEQEk737ww/lR90UVHp84Sve9ousysF6cX6yeX3oiVeazkw4Sos6kynXTvBY2y6OH4Bj1ilmCSpMr7BP6XkwkxKX5LV/V+G/5KLft7UoXLy1I4ZXt5fDgcwseW0G4mqUT6V5UBr24uPn65HCimN9Ir5BhYrdEjhRGjvusvk5GeZpRyV230E16h5+YNtqZyNkK3ZLK/QkvdTaWPPp2cGxYrrZiGAOzXr4waSMi7j4WrJToPTFRtD/QI8=&sortby=&sortdirection=&showcolumns=10"
   ]
  },
  {
   "cell_type": "code",
   "execution_count": null,
   "id": "d4be65cb",
   "metadata": {},
   "outputs": [],
   "source": [
    "2# Medicine"
   ]
  },
  {
   "cell_type": "code",
   "execution_count": null,
   "id": "f362cf3a",
   "metadata": {},
   "outputs": [],
   "source": []
  }
 ],
 "metadata": {
  "kernelspec": {
   "display_name": "Python 3",
   "language": "python",
   "name": "python3"
  },
  "language_info": {
   "codemirror_mode": {
    "name": "ipython",
    "version": 3
   },
   "file_extension": ".py",
   "mimetype": "text/x-python",
   "name": "python",
   "nbconvert_exporter": "python",
   "pygments_lexer": "ipython3",
   "version": "3.8.8"
  }
 },
 "nbformat": 4,
 "nbformat_minor": 5
}
