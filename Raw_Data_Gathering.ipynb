{
 "cells": [
  {
   "cell_type": "code",
   "execution_count": null,
   "id": "cd34b32f",
   "metadata": {},
   "outputs": [],
   "source": [
    "##The purpose of this file is to gather all raw data we scraped from all departments and topic into one csv file, remember that is still the raw data"
   ]
  },
  {
   "cell_type": "code",
   "execution_count": 1,
   "id": "e0843398",
   "metadata": {},
   "outputs": [],
   "source": [
    "import requests\n",
    "import random\n",
    "import time\n",
    "import pandas as pd\n",
    "import numpy as np\n",
    "import re\n",
    "import datetime\n",
    "import nltk\n",
    "from bs4 import BeautifulSoup\n",
    "import string\n",
    "import socket"
   ]
  },
  {
   "cell_type": "code",
   "execution_count": 2,
   "id": "bbecf1a6",
   "metadata": {},
   "outputs": [],
   "source": [
    "pd.set_option('display.max_colwidth', 150)\n",
    "stopwords = nltk.corpus.stopwords.words('english')\n",
    "ps = nltk.PorterStemmer()\n",
    "wn = nltk.WordNetLemmatizer()\n",
    "socket.setdefaulttimeout(20)"
   ]
  },
  {
   "cell_type": "code",
   "execution_count": 3,
   "id": "c73b939a",
   "metadata": {},
   "outputs": [],
   "source": [
    "user_agent_list = [\n",
    "'Mozilla/5.0 (X11; Linux i686) AppleWebKit/534.30 (KHTML, like Gecko) Slackware/Chrome/12.0.742.100 Safari/534.30',\n",
    "'Mozilla/5.0 (X11; Linux i686) AppleWebKit/534.30 (KHTML, like Gecko) Chrome/12.0.742.100 Safari/534.30',\n",
    "'Mozilla/5.0 (Windows NT 6.0) AppleWebKit/534.30 (KHTML, like Gecko) Chrome/12.0.742.100 Safari/534.30',\n",
    "'Mozilla/5.0 (Macintosh; Intel Mac OS X 10_7_0) AppleWebKit/534.30 (KHTML, like Gecko) Chrome/12.0.742.100 Safari/534.30',\n",
    "'Mozilla/5.0 (Macintosh; Intel Mac OS X 10_6_4) AppleWebKit/534.30 (KHTML, like Gecko) Chrome/12.0.742.100 Safari/534.30',\n",
    "'Mozilla/5.0 (Windows; U; Windows NT 5.1; en-US) AppleWebKit/534.30 (KHTML, like Gecko) Chrome/12.0.724.100 Safari/534.30',\n",
    "'Mozilla/5.0 (Windows NT 5.1) AppleWebKit/534.25 (KHTML, like Gecko) Chrome/12.0.706.0 Safari/534.25',\n",
    "'Mozilla/5.0 (Windows NT 5.1) AppleWebKit/534.25 (KHTML, like Gecko) Chrome/12.0.704.0 Safari/534.25',\n",
    "'Mozilla/5.0 (Windows; U; Windows NT 6.0; en-US) AppleWebKit/525.13 (KHTML, like Gecko) Chrome/0.2.149.27 Safari/525.13',\n",
    "'Mozilla/5.0 (Windows; U; Windows NT 5.1; en-US) AppleWebKit/525.13 (KHTML, like Gecko) Chrome/0.2.149.27 Safari/525.13',\n",
    "'Mozilla/5.0 (Windows; U; Windows NT 5.0; en-US) AppleWebKit/525.13 (KHTML, like Gecko) Chrome/0.2.149.27 Safari/525.13',\n",
    "'Mozilla/5.0 (Linux; U; en-US) AppleWebKit/525.13 (KHTML, like Gecko) Chrome/0.2.149.27 Safari/525.13',\n",
    "'Mozilla/5.0 (Macintosh; Intel Mac OS X 10_15_5) AppleWebKit/605.1.15 (KHTML, like Gecko) Version/13.1.1 Safari/605.1.15',\n",
    "'Mozilla/5.0 (Windows NT 10.0; Win64; x64; rv:77.0) Gecko/20100101 Firefox/77.0',\n",
    "'Mozilla/5.0 (Macintosh; Intel Mac OS X 10_15_5) AppleWebKit/537.36 (KHTML, like Gecko) Chrome/83.0.4103.97 Safari/537.36',\n",
    "'Mozilla/5.0 (Macintosh; Intel Mac OS X 10.15; rv:77.0) Gecko/20100101 Firefox/77.0',\n",
    "'Mozilla/5.0 (Windows 8) AppleWebKit/534.30 (KHTML, like Gecko) Chrome/12.0.742.112 Safari/534.30',\n",
    "'Mozilla/5.0 (Macintosh; Intel Mac OS X 10_6_6) AppleWebKit/534.30 (KHTML, like Gecko) Chrome/12.0.742.112 Safari/534.30',\n",
    "'Mozilla/5.0 (Macintosh; Intel Mac OS X 10_6_4) AppleWebKit/534.30 (KHTML, like Gecko) Chrome/12.0.742.112 Safari/534.30',\n",
    "'Mozilla/5.0 (X11; CrOS i686 12.433.216) AppleWebKit/534.30 (KHTML, like Gecko) Chrome/12.0.742.105 Safari/534.30',\n",
    "'Mozilla/5.0 ArchLinux (X11; U; Linux x86_64; en-US) AppleWebKit/534.30 (KHTML, like Gecko) Chrome/12.0.742.100 Safari/534.30',\n",
    "'Mozilla/5.0 ArchLinux (X11; U; Linux x86_64; en-US) AppleWebKit/534.30 (KHTML, like Gecko) Chrome/12.0.742.100',\n",
    "'Mozilla/5.0 (Windows NT 10.0; Win64; x64) AppleWebKit/537.36 (KHTML, like Gecko) Chrome/83.0.4103.97 Safari/537.36',\n",
    "'Mozilla/5.0 (X11; Linux i686) AppleWebKit/534.30 (KHTML, like Gecko) Ubuntu/10.04 Chromium/12.0.742.112 Chrome/12.0.742.112 Safari/534.30',\n",
    "'Mozilla/5.0 (Windows NT 7.1) AppleWebKit/534.30 (KHTML, like Gecko) Chrome/12.0.742.112 Safari/534.30',\n",
    "'Mozilla/5.0 (Windows NT 5.2) AppleWebKit/534.30 (KHTML, like Gecko) Chrome/12.0.742.112 Safari/534.30',\n",
    "'Mozilla/5.0 (Macintosh; U; Mac OS X 10_6_1; en-US) AppleWebKit/530.5 (KHTML, like Gecko) Chrome/ Safari/530.5',\n",
    "'Mozilla/5.0 (Macintosh; U; Mac OS X 10_5_7; en-US) AppleWebKit/530.5 (KHTML, like Gecko) Chrome/ Safari/530.5',\n",
    "'Mozilla/5.0 (Macintosh; U; Intel Mac OS X 10_5_6; en-US) AppleWebKit/530.9 (KHTML, like Gecko) Chrome/ Safari/530.9',\n",
    "'Mozilla/5.0 (Macintosh; U; Intel Mac OS X 10_5_6; en-US) AppleWebKit/530.6 (KHTML, like Gecko) Chrome/ Safari/530.6',\n",
    "'Mozilla/5.0 (Macintosh; U; Intel Mac OS X 10_5_6; en-US) AppleWebKit/530.5 (KHTML, like Gecko) Chrome/ Safari/530.5',\n",
    "'Mozilla/5.0 (Windows NT 10.0; Win64; x64) AppleWebKit/537.36 (KHTML, like Gecko) Chrome/70.0.3538.77 Safari/537.36',\n",
    "'Mozilla/5.0 (X11; Ubuntu; Linux x86_64) AppleWebKit/537.36 (KHTML, like Gecko) Chrome/55.0.2919.83 Safari/537.36',\n",
    "'Mozilla/5.0 (Macintosh; Intel Mac OS X 10_8_3) AppleWebKit/537.36 (KHTML, like Gecko) Chrome/54.0.2866.71 Safari/537.36',\n",
    "'Mozilla/5.0 (X11; Ubuntu; Linux i686 on x86_64) AppleWebKit/537.36 (KHTML, like Gecko) Chrome/53.0.2820.59 Safari/537.36',\n",
    "'Mozilla/5.0 (Windows; U; Windows NT 6.0; de) AppleWebKit/525.13 (KHTML, like Gecko) Chrome/0.2.149.27 Safari/525.13',\n",
    "'Mozilla/5.0 (Windows; U; Windows NT 5.2; en-US) AppleWebKit/525.13 (KHTML, like Gecko) Chrome/0.2.149.27 Safari/525.13',\n",
    "'Mozilla/5.0 (Windows; U; Windows NT 5.1; en-US) AppleWebKit/525.13(KHTML, like Gecko) Chrome/0.2.149.27 Safari/525.13',\n",
    "'Mozilla/5.0 (Macintosh; Intel Mac OS X 10_9_2) AppleWebKit/537.36 (KHTML, like Gecko) Chrome/52.0.2762.73 Safari/537.36',\n",
    "'Mozilla/5.0 (Macintosh; Intel Mac OS X 10_8_4) AppleWebKit/537.36 (KHTML, like Gecko) Chrome/49.0.2656.18 Safari/537.36',\n",
    "'Mozilla/5.0 (Windows NT 6.2; WOW64) AppleWebKit/537.36 (KHTML like Gecko) Chrome/44.0.2403.155 Safari/537.36',\n",
    "'Mozilla/5.0 (Windows NT 6.1) AppleWebKit/537.36 (KHTML, like Gecko) Chrome/41.0.2228.0 Safari/537.36',\n",
    "'Mozilla/5.0 (Macintosh; Intel Mac OS X 10_10_1) AppleWebKit/537.36 (KHTML, like Gecko) Chrome/41.0.2227.1 Safari/537.36',\n",
    "]"
   ]
  },
  {
   "cell_type": "code",
   "execution_count": 4,
   "id": "15db9ada",
   "metadata": {},
   "outputs": [],
   "source": [
    "df0 = pd.read_csv('8.10_All_Cancer_center_raw.csv')"
   ]
  },
  {
   "cell_type": "code",
   "execution_count": 7,
   "id": "93895742",
   "metadata": {},
   "outputs": [
    {
     "data": {
      "text/html": [
       "<div>\n",
       "<style scoped>\n",
       "    .dataframe tbody tr th:only-of-type {\n",
       "        vertical-align: middle;\n",
       "    }\n",
       "\n",
       "    .dataframe tbody tr th {\n",
       "        vertical-align: top;\n",
       "    }\n",
       "\n",
       "    .dataframe thead th {\n",
       "        text-align: right;\n",
       "    }\n",
       "</style>\n",
       "<table border=\"1\" class=\"dataframe\">\n",
       "  <thead>\n",
       "    <tr style=\"text-align: right;\">\n",
       "      <th></th>\n",
       "      <th>Provider_name</th>\n",
       "      <th>Department</th>\n",
       "      <th>Researcher_Type</th>\n",
       "      <th>Profile_link</th>\n",
       "      <th>Provider_all_top_concepts</th>\n",
       "      <th>Top_Concepts</th>\n",
       "    </tr>\n",
       "  </thead>\n",
       "  <tbody>\n",
       "    <tr>\n",
       "      <th>0</th>\n",
       "      <td>Steven Grossman</td>\n",
       "      <td>Cancer Center</td>\n",
       "      <td>Professor</td>\n",
       "      <td>https://researcherprofiles.org/profile/133498396</td>\n",
       "      <td>https://profiles.sc-ctsi.org/display/133498396/network/researchareas/timeline</td>\n",
       "      <td>Fatigue, 1 publications between 2008 and 2008, average publication date April 2008. Pain, 1 publications between 2008 and 2008, average publicatio...</td>\n",
       "    </tr>\n",
       "    <tr>\n",
       "      <th>1</th>\n",
       "      <td>Christopher Haiman, ScD</td>\n",
       "      <td>Cancer Center</td>\n",
       "      <td>Professor</td>\n",
       "      <td>https://researcherprofiles.org/profile/177063</td>\n",
       "      <td>https://profiles.sc-ctsi.org/display/177063/network/researchareas/timeline</td>\n",
       "      <td>Chromosomes, Human, Pair 8, 21 publications between 2006 and 2020, average publication date December 2011. Linkage Disequilibrium, 55 publications...</td>\n",
       "    </tr>\n",
       "    <tr>\n",
       "      <th>2</th>\n",
       "      <td>Caryn Lerman</td>\n",
       "      <td>Cancer Center</td>\n",
       "      <td>Professor</td>\n",
       "      <td>https://researcherprofiles.org/profile/41128129</td>\n",
       "      <td>https://profiles.sc-ctsi.org/display/41128129/network/researchareas/timeline</td>\n",
       "      <td>Genetic Testing, 46 publications between 1993 and 2020, average publication date July 2000. Genetic Counseling, 39 publications between 1991 and 2...</td>\n",
       "    </tr>\n",
       "  </tbody>\n",
       "</table>\n",
       "</div>"
      ],
      "text/plain": [
       "             Provider_name     Department Researcher_Type  \\\n",
       "0          Steven Grossman  Cancer Center       Professor   \n",
       "1  Christopher Haiman, ScD  Cancer Center       Professor   \n",
       "2             Caryn Lerman  Cancer Center       Professor   \n",
       "\n",
       "                                       Profile_link  \\\n",
       "0  https://researcherprofiles.org/profile/133498396   \n",
       "1     https://researcherprofiles.org/profile/177063   \n",
       "2   https://researcherprofiles.org/profile/41128129   \n",
       "\n",
       "                                                       Provider_all_top_concepts  \\\n",
       "0  https://profiles.sc-ctsi.org/display/133498396/network/researchareas/timeline   \n",
       "1     https://profiles.sc-ctsi.org/display/177063/network/researchareas/timeline   \n",
       "2   https://profiles.sc-ctsi.org/display/41128129/network/researchareas/timeline   \n",
       "\n",
       "                                                                                                                                            Top_Concepts  \n",
       "0  Fatigue, 1 publications between 2008 and 2008, average publication date April 2008. Pain, 1 publications between 2008 and 2008, average publicatio...  \n",
       "1  Chromosomes, Human, Pair 8, 21 publications between 2006 and 2020, average publication date December 2011. Linkage Disequilibrium, 55 publications...  \n",
       "2  Genetic Testing, 46 publications between 1993 and 2020, average publication date July 2000. Genetic Counseling, 39 publications between 1991 and 2...  "
      ]
     },
     "execution_count": 7,
     "metadata": {},
     "output_type": "execute_result"
    }
   ],
   "source": [
    "df0"
   ]
  },
  {
   "cell_type": "code",
   "execution_count": null,
   "id": "5e562738",
   "metadata": {},
   "outputs": [],
   "source": [
    "## in my case, the \"All_Else_raw.csv\" is a csv file I already initialized to append all data, then what I do is read and append all other csv files data into that one"
   ]
  },
  {
   "cell_type": "code",
   "execution_count": 8,
   "id": "1f529a2c",
   "metadata": {},
   "outputs": [],
   "source": [
    "df0.to_csv(\"All_Else_raw.csv\", index=False, header=True)"
   ]
  },
  {
   "cell_type": "code",
   "execution_count": 9,
   "id": "8b6c7008",
   "metadata": {},
   "outputs": [],
   "source": [
    "df1 = pd.read_csv('8.10_All_Neurological_Surgery_raw.csv')"
   ]
  },
  {
   "cell_type": "code",
   "execution_count": 10,
   "id": "dd06e22f",
   "metadata": {},
   "outputs": [],
   "source": [
    "df1.to_csv(\"All_Else_raw.csv\", mode='a',index=False, header=False)"
   ]
  },
  {
   "cell_type": "code",
   "execution_count": 11,
   "id": "72b6cb66",
   "metadata": {},
   "outputs": [],
   "source": [
    "df2 = pd.read_csv('8.10_All_Ophthalmology_raw.csv')"
   ]
  },
  {
   "cell_type": "code",
   "execution_count": 12,
   "id": "21f39bb1",
   "metadata": {},
   "outputs": [],
   "source": [
    "df2.to_csv(\"All_Else_raw.csv\", mode='a',index=False, header=False)"
   ]
  },
  {
   "cell_type": "code",
   "execution_count": 13,
   "id": "b27b1cd2",
   "metadata": {},
   "outputs": [],
   "source": [
    "df3 = pd.read_csv('8.10_All_Orthopaedic_Surgery_raw.csv')"
   ]
  },
  {
   "cell_type": "code",
   "execution_count": 14,
   "id": "f4fd87dd",
   "metadata": {},
   "outputs": [],
   "source": [
    "df3.to_csv(\"All_Else_raw.csv\", mode='a',index=False, header=False)"
   ]
  },
  {
   "cell_type": "code",
   "execution_count": 15,
   "id": "91586891",
   "metadata": {},
   "outputs": [],
   "source": [
    "df4 = pd.read_csv('8.10_All_Otolaryngology_raw.csv')"
   ]
  },
  {
   "cell_type": "code",
   "execution_count": 16,
   "id": "bc8dfba2",
   "metadata": {},
   "outputs": [],
   "source": [
    "df4.to_csv(\"All_Else_raw.csv\", mode='a',index=False, header=False)"
   ]
  },
  {
   "cell_type": "code",
   "execution_count": 19,
   "id": "dd0e0354",
   "metadata": {},
   "outputs": [],
   "source": [
    "df5 = pd.read_csv('8.10_All_Radiation_Oncology_raw.csv')"
   ]
  },
  {
   "cell_type": "code",
   "execution_count": 20,
   "id": "3e1172a8",
   "metadata": {},
   "outputs": [],
   "source": [
    "df5.to_csv(\"All_Else_raw.csv\", mode='a',index=False, header=False)"
   ]
  },
  {
   "cell_type": "code",
   "execution_count": 21,
   "id": "f8d58537",
   "metadata": {},
   "outputs": [],
   "source": [
    "df6 = pd.read_csv('8.10_All_surgery_raw.csv')"
   ]
  },
  {
   "cell_type": "code",
   "execution_count": 22,
   "id": "cc4a03e6",
   "metadata": {},
   "outputs": [],
   "source": [
    "df6.to_csv(\"All_Else_raw.csv\", mode='a',index=False, header=False)"
   ]
  },
  {
   "cell_type": "code",
   "execution_count": 23,
   "id": "b09d0e6f",
   "metadata": {},
   "outputs": [],
   "source": [
    "df7 = pd.read_csv('8.10_All_Urology_raw.csv')"
   ]
  },
  {
   "cell_type": "code",
   "execution_count": 24,
   "id": "2d691953",
   "metadata": {},
   "outputs": [],
   "source": [
    "df7.to_csv(\"All_Else_raw.csv\", mode='a',index=False, header=False)"
   ]
  },
  {
   "cell_type": "code",
   "execution_count": null,
   "id": "a2fcf1ee",
   "metadata": {},
   "outputs": [],
   "source": [
    "#####################################################"
   ]
  },
  {
   "cell_type": "code",
   "execution_count": 25,
   "id": "7f3a94b2",
   "metadata": {},
   "outputs": [],
   "source": [
    "dfraw = pd.read_csv('All_Else_raw.csv')"
   ]
  },
  {
   "cell_type": "code",
   "execution_count": 26,
   "id": "10f490de",
   "metadata": {},
   "outputs": [
    {
     "data": {
      "text/html": [
       "<div>\n",
       "<style scoped>\n",
       "    .dataframe tbody tr th:only-of-type {\n",
       "        vertical-align: middle;\n",
       "    }\n",
       "\n",
       "    .dataframe tbody tr th {\n",
       "        vertical-align: top;\n",
       "    }\n",
       "\n",
       "    .dataframe thead th {\n",
       "        text-align: right;\n",
       "    }\n",
       "</style>\n",
       "<table border=\"1\" class=\"dataframe\">\n",
       "  <thead>\n",
       "    <tr style=\"text-align: right;\">\n",
       "      <th></th>\n",
       "      <th>Provider_name</th>\n",
       "      <th>Department</th>\n",
       "      <th>Researcher_Type</th>\n",
       "      <th>Profile_link</th>\n",
       "      <th>Provider_all_top_concepts</th>\n",
       "      <th>Top_Concepts</th>\n",
       "    </tr>\n",
       "  </thead>\n",
       "  <tbody>\n",
       "    <tr>\n",
       "      <th>0</th>\n",
       "      <td>Steven Grossman</td>\n",
       "      <td>Cancer Center</td>\n",
       "      <td>Professor</td>\n",
       "      <td>https://researcherprofiles.org/profile/133498396</td>\n",
       "      <td>https://profiles.sc-ctsi.org/display/133498396/network/researchareas/timeline</td>\n",
       "      <td>Fatigue, 1 publications between 2008 and 2008, average publication date April 2008. Pain, 1 publications between 2008 and 2008, average publicatio...</td>\n",
       "    </tr>\n",
       "    <tr>\n",
       "      <th>1</th>\n",
       "      <td>Christopher Haiman, ScD</td>\n",
       "      <td>Cancer Center</td>\n",
       "      <td>Professor</td>\n",
       "      <td>https://researcherprofiles.org/profile/177063</td>\n",
       "      <td>https://profiles.sc-ctsi.org/display/177063/network/researchareas/timeline</td>\n",
       "      <td>Chromosomes, Human, Pair 8, 21 publications between 2006 and 2020, average publication date December 2011. Linkage Disequilibrium, 55 publications...</td>\n",
       "    </tr>\n",
       "    <tr>\n",
       "      <th>2</th>\n",
       "      <td>Caryn Lerman</td>\n",
       "      <td>Cancer Center</td>\n",
       "      <td>Professor</td>\n",
       "      <td>https://researcherprofiles.org/profile/41128129</td>\n",
       "      <td>https://profiles.sc-ctsi.org/display/41128129/network/researchareas/timeline</td>\n",
       "      <td>Genetic Testing, 46 publications between 1993 and 2020, average publication date July 2000. Genetic Counseling, 39 publications between 1991 and 2...</td>\n",
       "    </tr>\n",
       "    <tr>\n",
       "      <th>3</th>\n",
       "      <td>Arun P. Amar, MD</td>\n",
       "      <td>Neurological Surgery</td>\n",
       "      <td>Associate Professor</td>\n",
       "      <td>https://researcherprofiles.org/profile/197343</td>\n",
       "      <td>https://profiles.sc-ctsi.org/display/197343/network/researchareas/timeline</td>\n",
       "      <td>Electric Stimulation Therapy, 6 publications between 1998 and 2007, average publication date March 2002. Vagus Nerve, 8 publications between 1998 ...</td>\n",
       "    </tr>\n",
       "    <tr>\n",
       "      <th>4</th>\n",
       "      <td>Patrick Hsieh, MD</td>\n",
       "      <td>Neurological Surgery</td>\n",
       "      <td>Professor</td>\n",
       "      <td>https://researcherprofiles.org/profile/178188</td>\n",
       "      <td>https://profiles.sc-ctsi.org/display/178188/network/researchareas/timeline</td>\n",
       "      <td>Osteotomy, 6 publications between 2007 and 2014, average publication date August 2010. Sacrum, 4 publications between 2007 and 2014, average publi...</td>\n",
       "    </tr>\n",
       "    <tr>\n",
       "      <th>...</th>\n",
       "      <td>...</td>\n",
       "      <td>...</td>\n",
       "      <td>...</td>\n",
       "      <td>...</td>\n",
       "      <td>...</td>\n",
       "      <td>...</td>\n",
       "    </tr>\n",
       "    <tr>\n",
       "      <th>318</th>\n",
       "      <td>Shilo Rosenberg, MD</td>\n",
       "      <td>Urology</td>\n",
       "      <td>Assistant Professor</td>\n",
       "      <td>https://researcherprofiles.org/profile/177614</td>\n",
       "      <td>https://profiles.sc-ctsi.org/display/177614/network/researchareas/timeline</td>\n",
       "      <td>Seminal Vesicles, 1 publications between 2009 and 2009, average publication date January 2009. Multiple Myeloma, 1 publications between 2010 and 2...</td>\n",
       "    </tr>\n",
       "    <tr>\n",
       "      <th>319</th>\n",
       "      <td>Mary Samplaski, MD</td>\n",
       "      <td>Urology</td>\n",
       "      <td>Associate Professor</td>\n",
       "      <td>https://researcherprofiles.org/profile/191141</td>\n",
       "      <td>https://profiles.sc-ctsi.org/display/191141/network/researchareas/timeline</td>\n",
       "      <td>Prostatitis, 2 publications between 2011 and 2012, average publication date January 2012. Sperm Motility, 3 publications between 2010 and 2021, av...</td>\n",
       "    </tr>\n",
       "    <tr>\n",
       "      <th>320</th>\n",
       "      <td>Anne Kathryn Schuckman, MD</td>\n",
       "      <td>Urology</td>\n",
       "      <td>Associate Professor</td>\n",
       "      <td>https://researcherprofiles.org/profile/197093</td>\n",
       "      <td>https://profiles.sc-ctsi.org/display/197093/network/researchareas/timeline</td>\n",
       "      <td>Urologic Neoplasms, 2 publications between 2009 and 2020, average publication date January 2015. Carcinoma, Squamous Cell, 4 publications between ...</td>\n",
       "    </tr>\n",
       "    <tr>\n",
       "      <th>321</th>\n",
       "      <td>Rene Sotelo, MD</td>\n",
       "      <td>Urology</td>\n",
       "      <td>Professor</td>\n",
       "      <td>https://researcherprofiles.org/profile/197422</td>\n",
       "      <td>https://profiles.sc-ctsi.org/display/197422/network/researchareas/timeline</td>\n",
       "      <td>Aged, 1 publications between 2019 and 2019, average publication date June 2019. Cystoscopy, 1 publications between 2019 and 2019, average publicat...</td>\n",
       "    </tr>\n",
       "    <tr>\n",
       "      <th>322</th>\n",
       "      <td>Rong Zhang, PhD, DDS</td>\n",
       "      <td>Urology</td>\n",
       "      <td>Assistant Professor</td>\n",
       "      <td>https://researcherprofiles.org/profile/191119</td>\n",
       "      <td>https://profiles.sc-ctsi.org/display/191119/network/researchareas/timeline</td>\n",
       "      <td>NaN</td>\n",
       "    </tr>\n",
       "  </tbody>\n",
       "</table>\n",
       "<p>323 rows × 6 columns</p>\n",
       "</div>"
      ],
      "text/plain": [
       "                  Provider_name            Department      Researcher_Type  \\\n",
       "0               Steven Grossman         Cancer Center            Professor   \n",
       "1       Christopher Haiman, ScD         Cancer Center            Professor   \n",
       "2                  Caryn Lerman         Cancer Center            Professor   \n",
       "3              Arun P. Amar, MD  Neurological Surgery  Associate Professor   \n",
       "4             Patrick Hsieh, MD  Neurological Surgery            Professor   \n",
       "..                          ...                   ...                  ...   \n",
       "318         Shilo Rosenberg, MD               Urology  Assistant Professor   \n",
       "319          Mary Samplaski, MD               Urology  Associate Professor   \n",
       "320  Anne Kathryn Schuckman, MD               Urology  Associate Professor   \n",
       "321             Rene Sotelo, MD               Urology            Professor   \n",
       "322        Rong Zhang, PhD, DDS               Urology  Assistant Professor   \n",
       "\n",
       "                                         Profile_link  \\\n",
       "0    https://researcherprofiles.org/profile/133498396   \n",
       "1       https://researcherprofiles.org/profile/177063   \n",
       "2     https://researcherprofiles.org/profile/41128129   \n",
       "3       https://researcherprofiles.org/profile/197343   \n",
       "4       https://researcherprofiles.org/profile/178188   \n",
       "..                                                ...   \n",
       "318     https://researcherprofiles.org/profile/177614   \n",
       "319     https://researcherprofiles.org/profile/191141   \n",
       "320     https://researcherprofiles.org/profile/197093   \n",
       "321     https://researcherprofiles.org/profile/197422   \n",
       "322     https://researcherprofiles.org/profile/191119   \n",
       "\n",
       "                                                         Provider_all_top_concepts  \\\n",
       "0    https://profiles.sc-ctsi.org/display/133498396/network/researchareas/timeline   \n",
       "1       https://profiles.sc-ctsi.org/display/177063/network/researchareas/timeline   \n",
       "2     https://profiles.sc-ctsi.org/display/41128129/network/researchareas/timeline   \n",
       "3       https://profiles.sc-ctsi.org/display/197343/network/researchareas/timeline   \n",
       "4       https://profiles.sc-ctsi.org/display/178188/network/researchareas/timeline   \n",
       "..                                                                             ...   \n",
       "318     https://profiles.sc-ctsi.org/display/177614/network/researchareas/timeline   \n",
       "319     https://profiles.sc-ctsi.org/display/191141/network/researchareas/timeline   \n",
       "320     https://profiles.sc-ctsi.org/display/197093/network/researchareas/timeline   \n",
       "321     https://profiles.sc-ctsi.org/display/197422/network/researchareas/timeline   \n",
       "322     https://profiles.sc-ctsi.org/display/191119/network/researchareas/timeline   \n",
       "\n",
       "                                                                                                                                              Top_Concepts  \n",
       "0    Fatigue, 1 publications between 2008 and 2008, average publication date April 2008. Pain, 1 publications between 2008 and 2008, average publicatio...  \n",
       "1    Chromosomes, Human, Pair 8, 21 publications between 2006 and 2020, average publication date December 2011. Linkage Disequilibrium, 55 publications...  \n",
       "2    Genetic Testing, 46 publications between 1993 and 2020, average publication date July 2000. Genetic Counseling, 39 publications between 1991 and 2...  \n",
       "3    Electric Stimulation Therapy, 6 publications between 1998 and 2007, average publication date March 2002. Vagus Nerve, 8 publications between 1998 ...  \n",
       "4    Osteotomy, 6 publications between 2007 and 2014, average publication date August 2010. Sacrum, 4 publications between 2007 and 2014, average publi...  \n",
       "..                                                                                                                                                     ...  \n",
       "318  Seminal Vesicles, 1 publications between 2009 and 2009, average publication date January 2009. Multiple Myeloma, 1 publications between 2010 and 2...  \n",
       "319  Prostatitis, 2 publications between 2011 and 2012, average publication date January 2012. Sperm Motility, 3 publications between 2010 and 2021, av...  \n",
       "320  Urologic Neoplasms, 2 publications between 2009 and 2020, average publication date January 2015. Carcinoma, Squamous Cell, 4 publications between ...  \n",
       "321  Aged, 1 publications between 2019 and 2019, average publication date June 2019. Cystoscopy, 1 publications between 2019 and 2019, average publicat...  \n",
       "322                                                                                                                                                    NaN  \n",
       "\n",
       "[323 rows x 6 columns]"
      ]
     },
     "execution_count": 26,
     "metadata": {},
     "output_type": "execute_result"
    }
   ],
   "source": [
    "dfraw"
   ]
  }
 ],
 "metadata": {
  "kernelspec": {
   "display_name": "Python 3",
   "language": "python",
   "name": "python3"
  },
  "language_info": {
   "codemirror_mode": {
    "name": "ipython",
    "version": 3
   },
   "file_extension": ".py",
   "mimetype": "text/x-python",
   "name": "python",
   "nbconvert_exporter": "python",
   "pygments_lexer": "ipython3",
   "version": "3.8.8"
  }
 },
 "nbformat": 4,
 "nbformat_minor": 5
}
